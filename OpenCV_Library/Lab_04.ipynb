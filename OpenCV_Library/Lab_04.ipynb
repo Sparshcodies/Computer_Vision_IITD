{
 "cells": [
  {
   "cell_type": "markdown",
   "metadata": {},
   "source": [
    "#### Task 1: Importing Libraries"
   ]
  },
  {
   "cell_type": "code",
   "execution_count": 1,
   "metadata": {},
   "outputs": [
    {
     "name": "stdout",
     "output_type": "stream",
     "text": [
      "WARNING:tensorflow:From c:\\Users\\acer\\anaconda3\\Lib\\site-packages\\keras\\src\\losses.py:2976: The name tf.losses.sparse_softmax_cross_entropy is deprecated. Please use tf.compat.v1.losses.sparse_softmax_cross_entropy instead.\n",
      "\n"
     ]
    }
   ],
   "source": [
    "from keras.preprocessing.image import ImageDataGenerator\n",
    "from tensorflow.keras.preprocessing import image\n",
    "import numpy as np\n",
    "import matplotlib.pyplot as plt\n",
    "%matplotlib inline\n",
    "import PIL.Image as Image\n",
    "from skimage import io"
   ]
  },
  {
   "cell_type": "code",
   "execution_count": 2,
   "metadata": {},
   "outputs": [
    {
     "name": "stdout",
     "output_type": "stream",
     "text": [
      "[[[[ 86. 152. 210.]\n",
      "   [ 90. 155. 213.]\n",
      "   [ 92. 157. 215.]\n",
      "   ...\n",
      "   [ 50. 115. 181.]\n",
      "   [ 47. 115. 180.]\n",
      "   [ 45. 113. 178.]]\n",
      "\n",
      "  [[ 89. 154. 212.]\n",
      "   [ 90. 155. 213.]\n",
      "   [ 90. 155. 213.]\n",
      "   ...\n",
      "   [ 49. 114. 178.]\n",
      "   [ 48. 113. 177.]\n",
      "   [ 45. 113. 178.]]\n",
      "\n",
      "  [[ 88. 153. 211.]\n",
      "   [ 89. 154. 212.]\n",
      "   [ 88. 153. 211.]\n",
      "   ...\n",
      "   [ 48. 114. 175.]\n",
      "   [ 48. 114. 175.]\n",
      "   [ 48. 114. 175.]]\n",
      "\n",
      "  ...\n",
      "\n",
      "  [[160. 134. 111.]\n",
      "   [166. 143. 135.]\n",
      "   [174. 158. 145.]\n",
      "   ...\n",
      "   [  0.   0.   0.]\n",
      "   [  0.   0.   0.]\n",
      "   [  0.   0.   0.]]\n",
      "\n",
      "  [[161. 128. 111.]\n",
      "   [167. 143. 131.]\n",
      "   [167. 154. 135.]\n",
      "   ...\n",
      "   [  0.   0.   0.]\n",
      "   [  0.   0.   0.]\n",
      "   [  0.   0.   0.]]\n",
      "\n",
      "  [[156. 118. 105.]\n",
      "   [164. 136. 122.]\n",
      "   [160. 149. 121.]\n",
      "   ...\n",
      "   [  0.   0.   0.]\n",
      "   [  0.   0.   0.]\n",
      "   [  0.   0.   0.]]]]\n"
     ]
    }
   ],
   "source": [
    "url=\"https://iiif.lib.ncsu.edu/iiif/0052574/full/800,/0/default.jpg\"\n",
    "imge = io.imread(url)\n",
    "img = imge\n",
    "x = image.img_to_array(img)\n",
    "# Reshape the image to (1, img_width, img_height, channels)\n",
    "x = np.expand_dims(x, axis=0)\n",
    "print(x)\n"
   ]
  },
  {
   "cell_type": "code",
   "execution_count": 3,
   "metadata": {},
   "outputs": [],
   "source": [
    "# Create an instance of ImageDataGenerator and specify augmentation parameters\n",
    "datagen = ImageDataGenerator(\n",
    "        rotation_range=20,\n",
    "        width_shift_range=0.2,\n",
    "        height_shift_range=0.2,\n",
    "        shear_range=0.2,\n",
    "        zoom_range=0.2,\n",
    "        horizontal_flip=True,\n",
    "        fill_mode='nearest')"
   ]
  },
  {
   "cell_type": "code",
   "execution_count": 1,
   "metadata": {},
   "outputs": [
    {
     "ename": "SyntaxError",
     "evalue": "positional argument follows keyword argument (2125652691.py, line 3)",
     "output_type": "error",
     "traceback": [
      "\u001b[1;36m  Cell \u001b[1;32mIn[1], line 3\u001b[1;36m\u001b[0m\n\u001b[1;33m    for batch in datagen.flow(x, batch_size=1, save_to_dir='/content/sample_data', save ):\u001b[0m\n\u001b[1;37m                                                                                        ^\u001b[0m\n\u001b[1;31mSyntaxError\u001b[0m\u001b[1;31m:\u001b[0m positional argument follows keyword argument\n"
     ]
    }
   ],
   "source": [
    "# Generate augmented images\n",
    "i = 0\n",
    "for batch in datagen.flow(x, batch_size=1, save_to_dir='/content/sample_data', save ):\n",
    "    i += 1\n",
    "    if i > 40:\n",
    "        break "
   ]
  },
  {
   "cell_type": "code",
   "execution_count": null,
   "metadata": {},
   "outputs": [],
   "source": []
  }
 ],
 "metadata": {
  "kernelspec": {
   "display_name": "base",
   "language": "python",
   "name": "python3"
  },
  "language_info": {
   "codemirror_mode": {
    "name": "ipython",
    "version": 3
   },
   "file_extension": ".py",
   "mimetype": "text/x-python",
   "name": "python",
   "nbconvert_exporter": "python",
   "pygments_lexer": "ipython3",
   "version": "3.11.5"
  }
 },
 "nbformat": 4,
 "nbformat_minor": 2
}
