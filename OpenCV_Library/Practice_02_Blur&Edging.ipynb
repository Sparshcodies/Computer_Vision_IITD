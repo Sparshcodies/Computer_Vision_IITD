{
 "cells": [
  {
   "cell_type": "markdown",
   "id": "f8781df4",
   "metadata": {},
   "source": [
    "# Edge Detection"
   ]
  },
  {
   "cell_type": "code",
   "execution_count": 1,
   "id": "d41b88f3",
   "metadata": {},
   "outputs": [],
   "source": [
    "import cv2\n",
    "import numpy as np"
   ]
  },
  {
   "cell_type": "code",
   "execution_count": 3,
   "id": "8419d915",
   "metadata": {},
   "outputs": [],
   "source": [
    "img = cv2.imread(\"opencv-course\\Resources\\Photos\\cat.jpg\")\n",
    "cv2.imshow(\"cat\", img)\n",
    "cv2.waitKey(0)\n",
    "cv2.destroyAllWindows()"
   ]
  },
  {
   "cell_type": "code",
   "execution_count": 6,
   "id": "d865589c",
   "metadata": {},
   "outputs": [],
   "source": [
    "# Grayscale image\n",
    "gray = cv2.cvtColor(img, cv2.COLOR_BGR2GRAY)\n",
    "cv2.imshow(\"Grayscale\", gray)\n",
    "cv2.waitKey(0)\n",
    "cv2.destroyAllWindows()"
   ]
  },
  {
   "cell_type": "code",
   "execution_count": 13,
   "id": "2a61db9a",
   "metadata": {},
   "outputs": [],
   "source": [
    "# Blur image\n",
    "blur = cv2.GaussianBlur(img, (7,7), cv2.BORDER_DEFAULT)\n",
    "cv2.imshow(\"Blurred\", blur)\n",
    "cv2.waitKey(0)\n",
    "cv2.destroyAllWindows()"
   ]
  },
  {
   "cell_type": "code",
   "execution_count": 1,
   "id": "acedfa1c",
   "metadata": {},
   "outputs": [
    {
     "ename": "NameError",
     "evalue": "name 'cv2' is not defined",
     "output_type": "error",
     "traceback": [
      "\u001b[1;31m---------------------------------------------------------------------------\u001b[0m",
      "\u001b[1;31mNameError\u001b[0m                                 Traceback (most recent call last)",
      "Cell \u001b[1;32mIn[1], line 2\u001b[0m\n\u001b[0;32m      1\u001b[0m \u001b[38;5;66;03m# Edge detection\u001b[39;00m\n\u001b[1;32m----> 2\u001b[0m canny \u001b[38;5;241m=\u001b[39m \u001b[43mcv2\u001b[49m\u001b[38;5;241m.\u001b[39mCanny(img, \u001b[38;5;241m100\u001b[39m, \u001b[38;5;241m175\u001b[39m)\n\u001b[0;32m      3\u001b[0m cv2\u001b[38;5;241m.\u001b[39mimshow(\u001b[38;5;124m\"\u001b[39m\u001b[38;5;124mCanny Edges\u001b[39m\u001b[38;5;124m\"\u001b[39m, canny)\n\u001b[0;32m      4\u001b[0m cv2\u001b[38;5;241m.\u001b[39mwaitKey(\u001b[38;5;241m0\u001b[39m)\n",
      "\u001b[1;31mNameError\u001b[0m: name 'cv2' is not defined"
     ]
    }
   ],
   "source": [
    "# Edge detection\n",
    "canny = cv2.Canny(img, 125, 175)\n",
    "cv2.imshow(\"Canny Edges\", canny)\n",
    "cv2.waitKey(0)\n",
    "cv2.destroyAllWindows()"
   ]
  },
  {
   "cell_type": "code",
   "execution_count": 15,
   "id": "3972329f",
   "metadata": {},
   "outputs": [],
   "source": [
    "# Edge Dilation \n",
    "dilate = cv2.dilate(canny, (7,7), iterations=2)\n",
    "cv2.imshow(\"Dilated\", dilate)\n",
    "cv2.waitKey(0)\n",
    "cv2.destroyAllWindows()"
   ]
  },
  {
   "cell_type": "code",
   "execution_count": 16,
   "id": "df4cd0ef",
   "metadata": {},
   "outputs": [],
   "source": [
    "# Eroding Edges\n",
    "eroded = cv2.erode(dilate, (7,7), iterations=2)\n",
    "cv2.imshow(\"Eroded\", eroded)\n",
    "cv2.waitKey(0)\n",
    "cv2.destroyAllWindows()"
   ]
  },
  {
   "cell_type": "code",
   "execution_count": 17,
   "id": "b029af77",
   "metadata": {},
   "outputs": [],
   "source": [
    "# Resizing image\n",
    "resize = cv2.resize(img, (500,500), interpolation=cv2.INTER_CUBIC)\n",
    "cv2.imshow(\"Resized\", resize)\n",
    "cv2.waitKey(0)\n",
    "cv2.destroyAllWindows()"
   ]
  },
  {
   "cell_type": "markdown",
   "id": "c1be7234",
   "metadata": {},
   "source": [
    "# Blurring Techniques"
   ]
  },
  {
   "cell_type": "code",
   "execution_count": null,
   "id": "addfd680",
   "metadata": {},
   "outputs": [],
   "source": [
    "# Normal/Average Blur\n",
    "avg = cv2.blur(img,(5,5))\n",
    "cv2.imshow(\"Average Blur\",avg)\n",
    "cv2.waitKey(0)\n",
    "cv2.destroyAllWindows()"
   ]
  },
  {
   "cell_type": "code",
   "execution_count": null,
   "id": "90d46355",
   "metadata": {},
   "outputs": [],
   "source": [
    "# Gaussian Blur\n",
    "gauss = cv2.GaussianBlur(img,(5,5),1)\n",
    "cv2.imshow(\"Gaussian Blur\", gauss)\n",
    "cv2.waitKey(0)\n",
    "cv2.destroyAllWindows()"
   ]
  },
  {
   "cell_type": "code",
   "execution_count": null,
   "id": "3abb13f1",
   "metadata": {},
   "outputs": [],
   "source": [
    "# Median Blur\n",
    "med = cv2.medianBlur(img,5)\n",
    "cv2.imshow(\"Median Blur\", med)\n",
    "cv2.waitKey(0)\n",
    "cv2.destroyAllWindows()"
   ]
  },
  {
   "cell_type": "code",
   "execution_count": null,
   "id": "dd689b05",
   "metadata": {},
   "outputs": [],
   "source": [
    "# Bilateral\n",
    "bilat = cv2.bilateralFilter(img, 5, 15, 15)\n",
    "cv2.imshow(\"Bilateral Blur\",bilat)\n",
    "cv2.waitKey(0)\n",
    "cv2.destroyAllWindows()"
   ]
  },
  {
   "cell_type": "code",
   "execution_count": null,
   "id": "d7bfd3f6",
   "metadata": {},
   "outputs": [],
   "source": [
    "# Comparing All these\n",
    "cv2.imshow(\"Average Blur\",avg)\n",
    "cv2.imshow(\"Gaussian Blur\", gauss)\n",
    "cv2.imshow(\"Median Blur\", med)\n",
    "cv2.imshow(\"Bilateral Blur\",bilat)\n",
    "cv2.imshow(\"Park\", img)\n",
    "cv2.waitKey(0)\n",
    "cv2.destroyAllWindows()"
   ]
  },
  {
   "cell_type": "markdown",
   "id": "482549fe",
   "metadata": {},
   "source": [
    "# Advance Edge Detection"
   ]
  },
  {
   "cell_type": "code",
   "execution_count": 12,
   "id": "40926360",
   "metadata": {},
   "outputs": [],
   "source": [
    "# Laplaction\n",
    "lap = cv2.Laplacian(gray, cv2.CV_64F)\n",
    "lap = np.uint8(np.absolute(lap))\n",
    "cv2.imshow(\"Laplacian\", lap)\n",
    "cv2.waitKey(0)\n",
    "cv2.destroyAllWindows()"
   ]
  },
  {
   "cell_type": "code",
   "execution_count": 15,
   "id": "9258c6f9",
   "metadata": {},
   "outputs": [],
   "source": [
    "# Sobel\n",
    "sobelx = cv2.Sobel(gray, cv2.CV_64F, 1, 0)\n",
    "sobely = cv2.Sobel(gray, cv2.CV_64F, 0, 1)\n",
    "cv2.imshow(\"Sobel X\", sobelx)\n",
    "cv2.imshow(\"Sobel Y\", sobely)\n",
    "cv2.imshow(\"Grayscale\", gray)\n",
    "cv2.waitKey(0)\n",
    "cv2.destroyAllWindows()"
   ]
  },
  {
   "cell_type": "code",
   "execution_count": 17,
   "id": "932f3ec1",
   "metadata": {},
   "outputs": [],
   "source": [
    "combined_sobel = cv2.bitwise_or(sobelx, sobely)\n",
    "cv2.imshow(\"Combined Sobel\", combined_sobel)\n",
    "cv2.waitKey(0)\n",
    "cv2.destroyAllWindows()"
   ]
  },
  {
   "cell_type": "code",
   "execution_count": null,
   "id": "99c9acb6",
   "metadata": {},
   "outputs": [],
   "source": []
  }
 ],
 "metadata": {
  "kernelspec": {
   "display_name": "Python 3 (ipykernel)",
   "language": "python",
   "name": "python3"
  },
  "language_info": {
   "codemirror_mode": {
    "name": "ipython",
    "version": 3
   },
   "file_extension": ".py",
   "mimetype": "text/x-python",
   "name": "python",
   "nbconvert_exporter": "python",
   "pygments_lexer": "ipython3",
   "version": "3.12.4"
  }
 },
 "nbformat": 4,
 "nbformat_minor": 5
}
